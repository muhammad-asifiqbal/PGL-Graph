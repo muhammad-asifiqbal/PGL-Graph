{
 "cells": [
  {
   "cell_type": "markdown",
   "metadata": {},
   "source": [
    "# Implement PaddlePaddle Graph PGL \n"
   ]
  },
  {
   "cell_type": "markdown",
   "metadata": {},
   "source": [
    "Create a graph with numpy.\n",
    "\n",
    "Convert it into paddle.Tensor .\n",
    "\n",
    "Do send recv for graph neural network."
   ]
  },
  {
   "cell_type": "code",
   "execution_count": 18,
   "metadata": {},
   "outputs": [
    {
     "name": "stdout",
     "output_type": "stream",
     "text": [
      " g.tensor() :\n",
      " {\"class\": \"Graph\", \"num_nodes\": 5, \"edges_shape\": [3, 2], \"node_feat\": [{\"name\": \"h\", \"shape\": [5, 6], \"dtype\": \"paddle.float32\"}], \"edge_feat\": []}\n",
      "msg :\n",
      " {}\n",
      "ret :\n",
      " Tensor(shape=[5, 6], dtype=float32, place=CPUPlace, stop_gradient=True,\n",
      "       [[ 0.        ,  0.        ,  0.        ,  0.        ,  0.        ,  0.        ],\n",
      "        [ 0.09185073,  1.05368972, -0.56613213,  1.55583906,  0.87901366, -0.81917828],\n",
      "        [ 0.23137024, -0.05853562,  0.58775187,  0.51961970,  2.06692648,  1.35394073],\n",
      "        [ 0.        ,  0.        ,  0.        ,  0.        ,  0.        ,  0.        ],\n",
      "        [ 0.58650517, -0.73775339, -1.45752442,  0.44510791,  0.65541273,  0.59233290]])\n"
     ]
    }
   ],
   "source": [
    "# Code 1\n",
    "import pgl\n",
    "import paddle\n",
    "import numpy as np\n",
    "\n",
    "\n",
    "num_nodes = 5\n",
    "edges = [(0, 1), (1, 2), (3, 4)]\n",
    "feature = np.random.randn(5, 6).astype(np.float32)\n",
    "\n",
    "# print(feature)\n",
    "\n",
    "g = pgl.Graph(num_nodes=num_nodes,\n",
    "    edges=edges,\n",
    "    node_feat={\n",
    "        \"h\": feature\n",
    "    })\n",
    "\n",
    "print(\" g.tensor() :\\n\",g.tensor())\n",
    "\n",
    "def send_func(src_feat):\n",
    "    return src_feat\n",
    "\n",
    "def recv_func(msg):\n",
    "    return msg.reduce_sum(msg[\"h\"])\n",
    "\n",
    "msg = g.send(send_func, src_feat=g.node_feat)\n",
    "\n",
    "print(\"msg :\\n\",msg)\n",
    "\n",
    "ret = g.recv(recv_func, msg)\n",
    "print(\"ret :\\n\",ret)"
   ]
  },
  {
   "cell_type": "code",
   "execution_count": null,
   "metadata": {},
   "outputs": [],
   "source": []
  },
  {
   "cell_type": "markdown",
   "metadata": {},
   "source": [
    "Code 2:\n",
    "Create a graph with paddle.Tensor.\n",
    "\n",
    "Do send recv for graph neural network.\n"
   ]
  },
  {
   "cell_type": "code",
   "execution_count": 33,
   "metadata": {},
   "outputs": [
    {
     "name": "stdout",
     "output_type": "stream",
     "text": [
      "Graph:\n",
      " {\"class\": \"Graph\", \"num_nodes\": 5, \"edges_shape\": [3, 2], \"node_feat\": [{\"name\": \"feature\", \"shape\": [5, 6], \"dtype\": \"paddle.float32\"}], \"edge_feat\": [{\"name\": \"edge_feature\", \"shape\": [3, 6], \"dtype\": \"paddle.float32\"}]}\n",
      "_______________________\n",
      "Model:\n",
      " GCNConv(\n",
      "  (linear): Linear(in_features=6, out_features=6, dtype=float32)\n",
      ")\n",
      "_______________________\n",
      "out:\n",
      " Tensor(shape=[5, 6], dtype=float32, place=CPUPlace, stop_gradient=False,\n",
      "       [[ 0.        ,  0.        ,  0.        ,  0.        ,  0.        ,  0.        ],\n",
      "        [ 0.06639445, -1.23663890,  1.03784406, -0.73342884,  0.38160542, -1.55153561],\n",
      "        [-0.35825759,  1.54828119, -1.93157673,  0.97122401, -0.29368937,  2.10742211],\n",
      "        [ 0.        ,  0.        ,  0.        ,  0.        ,  0.        ,  0.        ],\n",
      "        [-1.31870973,  0.78955203, -2.41830254,  0.72151381, -0.41591209,  1.94382131]])\n"
     ]
    }
   ],
   "source": [
    "import paddle\n",
    "import pgl\n",
    "\n",
    "num_nodes = 5\n",
    "edges = paddle.to_tensor([ (0, 1), (1, 2), (3, 4)])\n",
    "feature = paddle.randn(shape=[5, 6])\n",
    "edge_feature = paddle.randn(shape=[3, 6])\n",
    "graph = pgl.Graph(num_nodes=num_nodes,\n",
    "            edges=edges,\n",
    "            node_feat={\n",
    "                \"feature\": feature\n",
    "            },\n",
    "            edge_feat={\n",
    "                \"edge_feature\": edge_feature\n",
    "            })\n",
    "\n",
    "model = pgl.nn.GCNConv(6, 6)\n",
    "out = model(graph, graph.node_feat[\"feature\"])\n",
    "\n",
    "print(\"Graph:\\n\",graph)\n",
    "print(\"_______________________\")\n",
    "print(\"Model:\\n\",model)\n",
    "print(\"_______________________\")\n",
    "print(\"out:\\n\",out)\n"
   ]
  },
  {
   "cell_type": "code",
   "execution_count": null,
   "metadata": {},
   "outputs": [],
   "source": []
  },
  {
   "cell_type": "code",
   "execution_count": null,
   "metadata": {},
   "outputs": [],
   "source": []
  },
  {
   "cell_type": "markdown",
   "metadata": {},
   "source": [
    "Draw graph using matplotlib"
   ]
  },
  {
   "cell_type": "code",
   "execution_count": 25,
   "metadata": {},
   "outputs": [],
   "source": [
    "from matplotlib import pyplot as plt"
   ]
  },
  {
   "cell_type": "code",
   "execution_count": 29,
   "metadata": {},
   "outputs": [
    {
     "data": {
      "image/png": "[encoded data removed]",
      "text/plain": [
       "<Figure size 432x288 with 1 Axes>"
      ]
     },
     "metadata": {
      "needs_background": "light"
     },
     "output_type": "display_data"
    }
   ],
   "source": [
    "x = [1,2,3,4]\n",
    "y = [1,2,3,4]\n",
    "z = [4,3,2,1]\n",
    "plt.plot(x,y)\n",
    "plt.plot(x,z)\n",
    "plt.title(\"Test Plot\")\n",
    "plt.xlabel(\"x\")\n",
    "plt.ylabel(\"y and z\")\n",
    "plt.legend([\"This is y\",\"This is z\"])\n",
    "plt.show()"
   ]
  },
  {
   "cell_type": "code",
   "execution_count": null,
   "metadata": {},
   "outputs": [],
   "source": []
  }
 ],
 "metadata": {
  "kernelspec": {
   "display_name": "Python 3",
   "language": "python",
   "name": "python3"
  },
  "language_info": {
   "codemirror_mode": {
    "name": "ipython",
    "version": 3
   },
   "file_extension": ".py",
   "mimetype": "text/x-python",
   "name": "python",
   "nbconvert_exporter": "python",
   "pygments_lexer": "ipython3",
   "version": "3.8.5"
  }
 },
 "nbformat": 4,
 "nbformat_minor": 4
}
